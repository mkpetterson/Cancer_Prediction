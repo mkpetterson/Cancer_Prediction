{
 "cells": [
  {
   "cell_type": "code",
   "execution_count": 3,
   "metadata": {},
   "outputs": [],
   "source": [
    "%load_ext autoreload\n",
    "%autoreload 2\n",
    "\n",
    "import pydicom as dm\n",
    "import numpy as np\n",
    "import os\n",
    "import sys\n",
    "import matplotlib.pyplot as plt\n",
    "import cv2\n",
    "\n",
    "# My scripts\n",
    "#os.chdir('../')\n",
    "from src import dicom_to_img"
   ]
  },
  {
   "cell_type": "code",
   "execution_count": 15,
   "metadata": {},
   "outputs": [
    {
     "name": "stdout",
     "output_type": "stream",
     "text": [
      "/home/maureen/Documents/Galvanize/Capstone1/Capstone3/Cancer_Prediction/data/Mammograms\n"
     ]
    },
    {
     "data": {
      "text/plain": [
       "True"
      ]
     },
     "execution_count": 15,
     "metadata": {},
     "output_type": "execute_result"
    }
   ],
   "source": [
    "#os.chdir('../')\n",
    "\n",
    "dicom = dm.dcmread('1-1.dcm')\n",
    "array = dicom.pixel_array\n",
    "\n",
    "rows, cols = array.shape\n",
    "\n",
    "row_inc = int(round(0.05*rows))\n",
    "col_inc = int(round(0.05*cols))               \n",
    "arr = array[row_inc:rows-row_inc, col_inc:cols-col_inc] \n",
    "\n",
    "\n",
    "image = cv2.resize(arr, (int(cols * 0.4), int(rows * 0.4)))\n",
    "image = cv2.normalize(image, None, 0, 255, cv2.NORM_MINMAX)\n",
    "image = np.uint8(image)\n",
    "print(os.getcwd())\n",
    "cv2.imwrite(\"testimage4.jpg\", image)"
   ]
  },
  {
   "cell_type": "code",
   "execution_count": 32,
   "metadata": {},
   "outputs": [
    {
     "data": {
      "text/plain": [
       "13198400"
      ]
     },
     "execution_count": 32,
     "metadata": {},
     "output_type": "execute_result"
    }
   ],
   "source": [
    "def no_border_pic(array):\n",
    "    \n",
    "    # Change figsize to work with our dimensions\n",
    "    fig = plt.figure(frameon=False, figsize=(3,4))\n",
    "   \n",
    "    # Crop image\n",
    "    # Make content fill full figure\n",
    "    ax = plt.Axes(fig, [0., 0., 1., 1.])\n",
    "    ax.set_axis_off()\n",
    "    fig.add_axes(ax)\n",
    "    \n",
    "    ax.imshow(im_cropped, aspect='auto', cmap='gray')\n",
    "    fig.savefig('fig3v1.png', bbox_inches='tight', dpi=350)\n",
    "    \n",
    "    return 0"
   ]
  },
  {
   "cell_type": "code",
   "execution_count": 21,
   "metadata": {},
   "outputs": [
    {
     "data": {
      "text/plain": [
       "'/home/maureen/Documents/Galvanize/Capstone1/Capstone3/Cancer_Prediction/data/Mammograms/CBIS-DDSM'"
      ]
     },
     "execution_count": 21,
     "metadata": {},
     "output_type": "execute_result"
    }
   ],
   "source": [
    "os.getcwd()"
   ]
  },
  {
   "cell_type": "code",
   "execution_count": 22,
   "metadata": {},
   "outputs": [
    {
     "name": "stdout",
     "output_type": "stream",
     "text": [
      "/home/maureen/Documents/Galvanize/Capstone1/Capstone3/Cancer_Prediction/data/Mammograms/CBIS-DDSM\n"
     ]
    }
   ],
   "source": [
    "## Changes from dicom to image\n",
    "\n",
    "path = os.getcwd()\n",
    "print(path)\n",
    "#os.chdir('CBIS-DDSM')\n",
    "dirs = [d for d in os.listdir()]\n",
    "\n",
    "i = 0\n",
    "for d in dirs:\n",
    "    path = os.path.join(os.getcwd(), d)\n",
    "    for root,dirs,files in os.walk(path):\n",
    "        for f in files:\n",
    "            file_path = os.path.join(root,f)\n",
    "            #print(file_path)\n",
    "\n",
    "            try:\n",
    "                dicom = dm.dcmread(file_path)\n",
    "                array = dicom.pixel_array\n",
    "\n",
    "                # Crop 10% off all sides\n",
    "                rows, cols = array.shape\n",
    "                row_inc = int(round(0.05*rows))\n",
    "                col_inc = int(round(0.05*cols))\n",
    "\n",
    "                arr = array[row_inc:rows-row_inc, col_inc:cols-col_inc]            \n",
    "\n",
    "                    # Save as image. Matplotlib adds lots of crap we don't want\n",
    "                image = cv2.resize(arr, (int(cols * 0.4), int(rows * 0.4)))\n",
    "                image = cv2.normalize(image, None, 0, 255, cv2.NORM_MINMAX)\n",
    "                image = np.uint8(image)\n",
    "                cv2.imwrite(f'{d}.jpg', image)\n",
    "                              \n",
    "            except:\n",
    "                print(d)               \n"
   ]
  },
  {
   "cell_type": "code",
   "execution_count": 13,
   "metadata": {},
   "outputs": [],
   "source": [
    "from PIL import Image\n",
    "\n",
    "def flip_l_to_r(path):\n",
    "    os.chdir(path)\n",
    "    files = [f for f in os.listdir() if 'LEFT' in f]\n",
    "    \n",
    "    # Loop through files and mirror flip them\n",
    "    for f in files:\n",
    "        image = Image.open(f)\n",
    "        array = np.fliplr(np.asarray(image))\n",
    "        plt.imshow(array)\n",
    "        plt.savefig(f, dpi=350)\n",
    "    \n",
    "    return 0 "
   ]
  },
  {
   "cell_type": "code",
   "execution_count": 43,
   "metadata": {},
   "outputs": [
    {
     "data": {
      "text/plain": [
       "((5266, 3481), (5266, 3481))"
      ]
     },
     "execution_count": 43,
     "metadata": {},
     "output_type": "execute_result"
    }
   ],
   "source": [
    "import imageio\n",
    "im = imageio.imread('testimage.png')\n",
    "im2 =imageio.imread('testimage1.jpg')\n",
    "\n",
    "im.shape, im2.shape"
   ]
  },
  {
   "cell_type": "code",
   "execution_count": null,
   "metadata": {},
   "outputs": [],
   "source": []
  }
 ],
 "metadata": {
  "kernelspec": {
   "display_name": "Python 3",
   "language": "python",
   "name": "python3"
  },
  "language_info": {
   "codemirror_mode": {
    "name": "ipython",
    "version": 3
   },
   "file_extension": ".py",
   "mimetype": "text/x-python",
   "name": "python",
   "nbconvert_exporter": "python",
   "pygments_lexer": "ipython3",
   "version": "3.7.6"
  }
 },
 "nbformat": 4,
 "nbformat_minor": 4
}

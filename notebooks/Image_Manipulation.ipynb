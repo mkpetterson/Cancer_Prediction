{
 "cells": [
  {
   "cell_type": "code",
   "execution_count": 25,
   "metadata": {},
   "outputs": [
    {
     "name": "stdout",
     "output_type": "stream",
     "text": [
      "The autoreload extension is already loaded. To reload it, use:\n",
      "  %reload_ext autoreload\n"
     ]
    }
   ],
   "source": [
    "%load_ext autoreload\n",
    "%autoreload 2\n",
    "\n",
    "import pydicom as dm\n",
    "import numpy as np\n",
    "import os\n",
    "import sys\n",
    "import matplotlib.pyplot as plt\n",
    "import cv2\n",
    "import imageio\n",
    "\n",
    "# My scripts\n",
    "#os.chdir('../')\n",
    "from src import dicom_to_img"
   ]
  },
  {
   "cell_type": "markdown",
   "metadata": {},
   "source": [
    "## Dicom Image manipulation"
   ]
  },
  {
   "cell_type": "code",
   "execution_count": 15,
   "metadata": {},
   "outputs": [
    {
     "name": "stdout",
     "output_type": "stream",
     "text": [
      "/home/maureen/Documents/Galvanize/Capstone1/Capstone3/Cancer_Prediction/data/Mammograms\n"
     ]
    },
    {
     "data": {
      "text/plain": [
       "True"
      ]
     },
     "execution_count": 15,
     "metadata": {},
     "output_type": "execute_result"
    }
   ],
   "source": [
    "#os.chdir('../')\n",
    "\n",
    "dicom = dm.dcmread('1-1.dcm')\n",
    "array = dicom.pixel_array\n",
    "\n",
    "rows, cols = array.shape\n",
    "\n",
    "row_inc = int(round(0.05*rows))\n",
    "col_inc = int(round(0.05*cols))               \n",
    "arr = array[row_inc:rows-row_inc, col_inc:cols-col_inc] \n",
    "\n",
    "\n",
    "image = cv2.resize(arr, (int(cols * 0.4), int(rows * 0.4)))\n",
    "image = cv2.normalize(image, None, 0, 255, cv2.NORM_MINMAX)\n",
    "image = np.uint8(image)\n",
    "print(os.getcwd())\n",
    "cv2.imwrite(\"testimage4.jpg\", image)"
   ]
  },
  {
   "cell_type": "code",
   "execution_count": 45,
   "metadata": {},
   "outputs": [
    {
     "data": {
      "text/plain": [
       "'/home/maureen/Documents/Galvanize/Capstone1/Capstone3/Cancer_Prediction'"
      ]
     },
     "execution_count": 45,
     "metadata": {},
     "output_type": "execute_result"
    }
   ],
   "source": [
    "os.getcwd()"
   ]
  },
  {
   "cell_type": "code",
   "execution_count": 22,
   "metadata": {},
   "outputs": [
    {
     "name": "stdout",
     "output_type": "stream",
     "text": [
      "/home/maureen/Documents/Galvanize/Capstone1/Capstone3/Cancer_Prediction/data/Mammograms/CBIS-DDSM\n"
     ]
    }
   ],
   "source": [
    "# Full directory\n",
    "\n",
    "path = '/home/maureen/Documents/Galvanize/Capstone1/Capstone3/Cancer_Prediction/data/CBIS-DDSM'\n",
    "os.chdir(path)\n",
    "dirs = [d for d in os.listdir()]\n",
    "\n",
    "for d in dirs:\n",
    "    path = os.path.join(os.getcwd(), d)\n",
    "    for root,dirs,files in os.walk(path):\n",
    "        for f in files:\n",
    "            file_path = os.path.join(root,f)\n",
    "            #print(file_path)\n",
    "\n",
    "            try:\n",
    "                dicom = dm.dcmread(file_path)\n",
    "                array = dicom.pixel_array\n",
    "\n",
    "                # Crop 10% off all sides\n",
    "                rows, cols = array.shape\n",
    "                row_inc = int(round(0.05*rows))\n",
    "                col_inc = int(round(0.05*cols))\n",
    "\n",
    "                arr = array[row_inc:rows-row_inc, col_inc:cols-col_inc]            \n",
    "\n",
    "                    # Save as image. Matplotlib adds lots of crap we don't want\n",
    "                image = cv2.resize(arr, (int(cols * 0.4), int(rows * 0.4)))\n",
    "                image = cv2.normalize(image, None, 0, 255, cv2.NORM_MINMAX)\n",
    "                image = np.uint8(image)\n",
    "                cv2.imwrite(f'{d}.png', image)\n",
    "                              \n",
    "            except:\n",
    "                print(d)               \n"
   ]
  },
  {
   "cell_type": "markdown",
   "metadata": {},
   "source": [
    "## Normal mammograms (ljpeg)"
   ]
  },
  {
   "cell_type": "code",
   "execution_count": 55,
   "metadata": {},
   "outputs": [
    {
     "data": {
      "text/plain": [
       "0"
      ]
     },
     "execution_count": 55,
     "metadata": {},
     "output_type": "execute_result"
    }
   ],
   "source": [
    "# Cropping and resizing mammogram images\n",
    "path = '/home/maureen/Documents/Galvanize/Capstone1/Capstone3/Cancer_Prediction/data/Mammograms/normals/mlo'\n",
    "os.chdir(path)\n",
    "img_path = 'A_0200_1.RIGHT_MLO.jpg'\n",
    "def crop_mammograms(img_path):\n",
    "    \n",
    "    # Read image\n",
    "    im = cv2.imread(img_path)\n",
    "    image_name = os.path.splitext(img_path)[0]\n",
    "    \n",
    "    # Crop and normalize\n",
    "    rows, cols, channels = im.shape\n",
    "    row_inc = int(round(0.05*rows))\n",
    "    col_inc = int(round(0.05*cols))\n",
    "\n",
    "    arr = im[row_inc:rows-row_inc, col_inc:cols-col_inc, :] \n",
    "    image = cv2.resize(arr, (int(cols * 0.3), int(rows * 0.3)))\n",
    "    cv2.normalize(image, None, 0, 255, cv2.NORM_MINMAX)\n",
    "    \n",
    "    # Save\n",
    "    image = np.uint8(image)\n",
    "    cv2.imwrite(f'{image_name}.png', image)\n",
    "    \n",
    "    return 0\n",
    "    \n",
    "\n",
    "crop_mammograms(img_path)"
   ]
  },
  {
   "cell_type": "code",
   "execution_count": 54,
   "metadata": {},
   "outputs": [],
   "source": [
    "files = [f for f in os.listdir(path)]\n",
    "for f in files:\n",
    "    crop_mammograms(f)"
   ]
  },
  {
   "cell_type": "code",
   "execution_count": 13,
   "metadata": {},
   "outputs": [],
   "source": [
    "from PIL import Image\n",
    "\n",
    "def flip_l_to_r(path):\n",
    "    os.chdir(path)\n",
    "    files = [f for f in os.listdir() if 'LEFT' in f]\n",
    "    \n",
    "    # Loop through files and mirror flip them\n",
    "    for f in files:\n",
    "        image = Image.open(f)\n",
    "        array = np.fliplr(np.asarray(image))\n",
    "        plt.imshow(array)\n",
    "        plt.savefig(f, dpi=350)\n",
    "    \n",
    "    return 0 "
   ]
  },
  {
   "cell_type": "code",
   "execution_count": 27,
   "metadata": {},
   "outputs": [
    {
     "data": {
      "text/plain": [
       "((800, 500), (800, 500, 3))"
      ]
     },
     "execution_count": 27,
     "metadata": {},
     "output_type": "execute_result"
    }
   ],
   "source": [
    "# Check image channels\n",
    "img_path = 'data/Mammograms/normals/cc/D_4604_1.RIGHT_CC.jpg'\n",
    "\n",
    "im_io = imageio.imread(img_path)\n",
    "im_cv2 = cv2.imread(img_path)\n",
    "\n",
    "im_io.shape, im_cv2.shape"
   ]
  },
  {
   "cell_type": "code",
   "execution_count": 46,
   "metadata": {},
   "outputs": [
    {
     "data": {
      "text/plain": [
       "array([[[  2,   2,   2],\n",
       "        [  6,   6,   6],\n",
       "        [ 10,  10,  10],\n",
       "        ...,\n",
       "        [ 26,  26,  26],\n",
       "        [ 31,  31,  31],\n",
       "        [ 33,  33,  33]],\n",
       "\n",
       "       [[  0,   0,   0],\n",
       "        [  1,   1,   1],\n",
       "        [  3,   3,   3],\n",
       "        ...,\n",
       "        [ 21,  21,  21],\n",
       "        [ 25,  25,  25],\n",
       "        [ 27,  27,  27]],\n",
       "\n",
       "       [[  4,   4,   4],\n",
       "        [  4,   4,   4],\n",
       "        [  4,   4,   4],\n",
       "        ...,\n",
       "        [ 22,  22,  22],\n",
       "        [ 27,  27,  27],\n",
       "        [ 29,  29,  29]],\n",
       "\n",
       "       ...,\n",
       "\n",
       "       [[255, 255, 255],\n",
       "        [255, 255, 255],\n",
       "        [255, 255, 255],\n",
       "        ...,\n",
       "        [253, 253, 253],\n",
       "        [253, 253, 253],\n",
       "        [253, 253, 253]],\n",
       "\n",
       "       [[255, 255, 255],\n",
       "        [255, 255, 255],\n",
       "        [255, 255, 255],\n",
       "        ...,\n",
       "        [253, 253, 253],\n",
       "        [253, 253, 253],\n",
       "        [253, 253, 253]],\n",
       "\n",
       "       [[255, 255, 255],\n",
       "        [255, 255, 255],\n",
       "        [255, 255, 255],\n",
       "        ...,\n",
       "        [253, 253, 253],\n",
       "        [253, 253, 253],\n",
       "        [253, 253, 253]]], dtype=uint8)"
      ]
     },
     "execution_count": 46,
     "metadata": {},
     "output_type": "execute_result"
    }
   ],
   "source": [
    "# im2_io = imageio.imread('data/Histology/40X/train/benign/SOB_B_TA-14-13200-40-008.png')\n",
    "# im2_io.shape\n",
    "cv2.normalize(im_cv2, None, 0, 255, cv2.NORM_MINMAX)"
   ]
  },
  {
   "cell_type": "code",
   "execution_count": 43,
   "metadata": {},
   "outputs": [
    {
     "data": {
      "text/plain": [
       "array([[ 2,  2,  2],\n",
       "       [ 6,  6,  6],\n",
       "       [10, 10, 10],\n",
       "       ...,\n",
       "       [26, 26, 26],\n",
       "       [31, 31, 31],\n",
       "       [33, 33, 33]], dtype=uint8)"
      ]
     },
     "execution_count": 43,
     "metadata": {},
     "output_type": "execute_result"
    }
   ],
   "source": [
    "#im_io[0]\n",
    "im_cv2[0]"
   ]
  },
  {
   "cell_type": "code",
   "execution_count": null,
   "metadata": {},
   "outputs": [],
   "source": []
  }
 ],
 "metadata": {
  "kernelspec": {
   "display_name": "Python 3",
   "language": "python",
   "name": "python3"
  },
  "language_info": {
   "codemirror_mode": {
    "name": "ipython",
    "version": 3
   },
   "file_extension": ".py",
   "mimetype": "text/x-python",
   "name": "python",
   "nbconvert_exporter": "python",
   "pygments_lexer": "ipython3",
   "version": "3.7.6"
  }
 },
 "nbformat": 4,
 "nbformat_minor": 4
}

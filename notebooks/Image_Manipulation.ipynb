{
 "cells": [
  {
   "cell_type": "code",
   "execution_count": 25,
   "metadata": {},
   "outputs": [
    {
     "name": "stdout",
     "output_type": "stream",
     "text": [
      "The autoreload extension is already loaded. To reload it, use:\n",
      "  %reload_ext autoreload\n"
     ]
    }
   ],
   "source": [
    "%load_ext autoreload\n",
    "%autoreload 2\n",
    "\n",
    "import pydicom as dm\n",
    "import numpy as np\n",
    "import os\n",
    "import sys\n",
    "import matplotlib.pyplot as plt\n",
    "import cv2\n",
    "import imageio\n",
    "\n",
    "# My scripts\n",
    "#os.chdir('../')\n",
    "from src import dicom_to_img"
   ]
  },
  {
   "cell_type": "code",
   "execution_count": 15,
   "metadata": {},
   "outputs": [
    {
     "name": "stdout",
     "output_type": "stream",
     "text": [
      "/home/maureen/Documents/Galvanize/Capstone1/Capstone3/Cancer_Prediction/data/Mammograms\n"
     ]
    },
    {
     "data": {
      "text/plain": [
       "True"
      ]
     },
     "execution_count": 15,
     "metadata": {},
     "output_type": "execute_result"
    }
   ],
   "source": [
    "#os.chdir('../')\n",
    "\n",
    "dicom = dm.dcmread('1-1.dcm')\n",
    "array = dicom.pixel_array\n",
    "\n",
    "rows, cols = array.shape\n",
    "\n",
    "row_inc = int(round(0.05*rows))\n",
    "col_inc = int(round(0.05*cols))               \n",
    "arr = array[row_inc:rows-row_inc, col_inc:cols-col_inc] \n",
    "\n",
    "\n",
    "image = cv2.resize(arr, (int(cols * 0.4), int(rows * 0.4)))\n",
    "image = cv2.normalize(image, None, 0, 255, cv2.NORM_MINMAX)\n",
    "image = np.uint8(image)\n",
    "print(os.getcwd())\n",
    "cv2.imwrite(\"testimage4.jpg\", image)"
   ]
  },
  {
   "cell_type": "code",
   "execution_count": 32,
   "metadata": {},
   "outputs": [
    {
     "data": {
      "text/plain": [
       "13198400"
      ]
     },
     "execution_count": 32,
     "metadata": {},
     "output_type": "execute_result"
    }
   ],
   "source": [
    "def no_border_pic(array):\n",
    "    \n",
    "    # Change figsize to work with our dimensions\n",
    "    fig = plt.figure(frameon=False, figsize=(3,4))\n",
    "   \n",
    "    # Crop image\n",
    "    # Make content fill full figure\n",
    "    ax = plt.Axes(fig, [0., 0., 1., 1.])\n",
    "    ax.set_axis_off()\n",
    "    fig.add_axes(ax)\n",
    "    \n",
    "    ax.imshow(im_cropped, aspect='auto', cmap='gray')\n",
    "    fig.savefig('fig3v1.png', bbox_inches='tight', dpi=350)\n",
    "    \n",
    "    return 0"
   ]
  },
  {
   "cell_type": "code",
   "execution_count": 21,
   "metadata": {},
   "outputs": [
    {
     "data": {
      "text/plain": [
       "'/home/maureen/Documents/Galvanize/Capstone1/Capstone3/Cancer_Prediction/data/Mammograms/CBIS-DDSM'"
      ]
     },
     "execution_count": 21,
     "metadata": {},
     "output_type": "execute_result"
    }
   ],
   "source": [
    "os.getcwd()"
   ]
  },
  {
   "cell_type": "code",
   "execution_count": 22,
   "metadata": {},
   "outputs": [
    {
     "name": "stdout",
     "output_type": "stream",
     "text": [
      "/home/maureen/Documents/Galvanize/Capstone1/Capstone3/Cancer_Prediction/data/Mammograms/CBIS-DDSM\n"
     ]
    }
   ],
   "source": [
    "## Changes from dicom to image\n",
    "\n",
    "path = os.getcwd()\n",
    "print(path)\n",
    "#os.chdir('CBIS-DDSM')\n",
    "dirs = [d for d in os.listdir()]\n",
    "\n",
    "i = 0\n",
    "for d in dirs:\n",
    "    path = os.path.join(os.getcwd(), d)\n",
    "    for root,dirs,files in os.walk(path):\n",
    "        for f in files:\n",
    "            file_path = os.path.join(root,f)\n",
    "            #print(file_path)\n",
    "\n",
    "            try:\n",
    "                dicom = dm.dcmread(file_path)\n",
    "                array = dicom.pixel_array\n",
    "\n",
    "                # Crop 10% off all sides\n",
    "                rows, cols = array.shape\n",
    "                row_inc = int(round(0.05*rows))\n",
    "                col_inc = int(round(0.05*cols))\n",
    "\n",
    "                arr = array[row_inc:rows-row_inc, col_inc:cols-col_inc]            \n",
    "\n",
    "                    # Save as image. Matplotlib adds lots of crap we don't want\n",
    "                image = cv2.resize(arr, (int(cols * 0.4), int(rows * 0.4)))\n",
    "                image = cv2.normalize(image, None, 0, 255, cv2.NORM_MINMAX)\n",
    "                image = np.uint8(image)\n",
    "                cv2.imwrite(f'{d}.png', image)\n",
    "                              \n",
    "            except:\n",
    "                print(d)               \n"
   ]
  },
  {
   "cell_type": "code",
   "execution_count": 13,
   "metadata": {},
   "outputs": [],
   "source": [
    "from PIL import Image\n",
    "\n",
    "def flip_l_to_r(path):\n",
    "    os.chdir(path)\n",
    "    files = [f for f in os.listdir() if 'LEFT' in f]\n",
    "    \n",
    "    # Loop through files and mirror flip them\n",
    "    for f in files:\n",
    "        image = Image.open(f)\n",
    "        array = np.fliplr(np.asarray(image))\n",
    "        plt.imshow(array)\n",
    "        plt.savefig(f, dpi=350)\n",
    "    \n",
    "    return 0 "
   ]
  },
  {
   "cell_type": "code",
   "execution_count": 27,
   "metadata": {},
   "outputs": [
    {
     "data": {
      "text/plain": [
       "((800, 500), (800, 500, 3))"
      ]
     },
     "execution_count": 27,
     "metadata": {},
     "output_type": "execute_result"
    }
   ],
   "source": [
    "# Check image channels\n",
    "img_path = 'data/Mammograms/normals/cc/D_4604_1.RIGHT_CC.jpg'\n",
    "\n",
    "im_io = imageio.imread(img_path)\n",
    "im_cv2 = cv2.imread(img_path)\n",
    "\n",
    "im_io.shape, im_cv2.shape"
   ]
  },
  {
   "cell_type": "code",
   "execution_count": 44,
   "metadata": {},
   "outputs": [
    {
     "data": {
      "text/plain": [
       "Array([  4,   7,   7,   4,   5,   8,   9,   6,   1,   2,   4,   5,   6,\n",
       "         7,   7,   7,   3,   3,   3,   3,   3,   3,   3,   3,   6,   7,\n",
       "         5,   4,   8,  13,  11,   6,   4,   4,   6,   7,   7,   7,   7,\n",
       "         7,   4,   7,   6,   2,   0,   2,   2,   0,   2,   3,   5,   6,\n",
       "         6,   5,   3,   2,   3,   6,   6,   2,   3,   7,   8,   5,   5,\n",
       "         4,   3,   4,   6,   7,   6,   5,   3,   3,   3,   3,   3,   3,\n",
       "         3,   3,   5,   4,   4,   3,   3,   4,   4,   5,   4,   2,   3,\n",
       "         6,   5,   3,   6,  11,  19,  25,  17,   9,  17,  25,  30,  39,\n",
       "        45,  49,  53,  53,  52,  53,  56,  60,  64,  66,  69,  75,  81,\n",
       "        87,  91,  94,  93,  95,  97,  98, 100, 104, 109, 113, 118, 122,\n",
       "       129, 135, 138, 139, 139, 139, 134, 137, 142, 150, 155, 156, 152,\n",
       "       147, 141, 145, 151, 155, 155, 153, 149, 147, 148, 152, 155, 153,\n",
       "       149, 146, 147, 149, 152, 152, 152, 152, 152, 152, 152, 153, 155,\n",
       "       155, 154, 153, 152, 152, 151, 151, 155, 154, 154, 153, 152, 151,\n",
       "       151, 150, 154, 154, 154, 155, 156, 157, 159, 160, 160, 160, 159,\n",
       "       158, 158, 158, 159, 159, 159, 159, 160, 160, 159, 159, 158, 157,\n",
       "       159, 158, 157, 156, 156, 156, 156, 157, 158, 158, 158, 157, 157,\n",
       "       156, 156, 156, 157, 157, 157, 157, 156, 155, 154, 153, 153, 153,\n",
       "       153, 153, 153, 153, 153, 153, 152, 152, 153, 153, 153, 154, 154,\n",
       "       154, 154, 154, 155, 155, 155, 154, 153, 153, 154, 154, 155, 155,\n",
       "       155, 156, 156, 156, 156, 156, 155, 154, 154, 155, 155, 156, 156,\n",
       "       156, 157, 158, 158, 157, 156, 156, 156, 156, 156, 156, 156, 156,\n",
       "       156, 155, 155, 155, 155, 156, 156, 157, 157, 157, 158, 158, 158,\n",
       "       158, 158, 158, 158, 158, 158, 158, 158, 158, 158, 158, 158, 158,\n",
       "       160, 159, 159, 159, 158, 158, 158, 158, 156, 157, 158, 157, 156,\n",
       "       156, 158, 160, 162, 161, 160, 158, 157, 155, 155, 154, 157, 157,\n",
       "       157, 157, 157, 157, 157, 157, 158, 158, 158, 158, 158, 158, 158,\n",
       "       158, 157, 156, 156, 156, 156, 157, 158, 159, 160, 160, 160, 159,\n",
       "       159, 159, 158, 158, 158, 158, 158, 158, 158, 158, 158, 158, 158,\n",
       "       158, 158, 157, 157, 156, 156, 156, 156, 156, 156, 156, 156, 156,\n",
       "       156, 156, 156, 156, 156, 156, 156, 156, 156, 156, 156, 157, 157,\n",
       "       157, 158, 158, 158, 158, 159, 159, 158, 158, 157, 157, 156, 156,\n",
       "       156, 156, 157, 157, 156, 156, 155, 155, 158, 158, 158, 158, 158,\n",
       "       158, 157, 157, 154, 154, 155, 155, 156, 157, 157, 158, 161, 159,\n",
       "       158, 157, 158, 158, 157, 155, 159, 159, 159, 160, 160, 161, 161,\n",
       "       161, 158, 158, 157, 157, 156, 155, 155, 154, 152, 155, 157, 155,\n",
       "       151, 150, 152, 154, 154, 153, 152, 151, 152, 153, 155, 156, 158,\n",
       "       157, 156, 155, 153, 152, 151, 150, 145, 143, 140, 140, 141, 143,\n",
       "       144, 143, 146, 146, 146, 146], dtype=uint8)"
      ]
     },
     "execution_count": 44,
     "metadata": {},
     "output_type": "execute_result"
    }
   ],
   "source": [
    "# im2_io = imageio.imread('data/Histology/40X/train/benign/SOB_B_TA-14-13200-40-008.png')\n",
    "# im2_io.shape\n",
    "im_io[499]"
   ]
  },
  {
   "cell_type": "code",
   "execution_count": 43,
   "metadata": {},
   "outputs": [
    {
     "data": {
      "text/plain": [
       "array([[ 2,  2,  2],\n",
       "       [ 6,  6,  6],\n",
       "       [10, 10, 10],\n",
       "       ...,\n",
       "       [26, 26, 26],\n",
       "       [31, 31, 31],\n",
       "       [33, 33, 33]], dtype=uint8)"
      ]
     },
     "execution_count": 43,
     "metadata": {},
     "output_type": "execute_result"
    }
   ],
   "source": [
    "#im_io[0]\n",
    "im_cv2[0]"
   ]
  },
  {
   "cell_type": "code",
   "execution_count": null,
   "metadata": {},
   "outputs": [],
   "source": []
  }
 ],
 "metadata": {
  "kernelspec": {
   "display_name": "Python 3",
   "language": "python",
   "name": "python3"
  },
  "language_info": {
   "codemirror_mode": {
    "name": "ipython",
    "version": 3
   },
   "file_extension": ".py",
   "mimetype": "text/x-python",
   "name": "python",
   "nbconvert_exporter": "python",
   "pygments_lexer": "ipython3",
   "version": "3.7.6"
  }
 },
 "nbformat": 4,
 "nbformat_minor": 4
}

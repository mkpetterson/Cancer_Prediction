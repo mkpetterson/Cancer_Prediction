{
 "cells": [
  {
   "cell_type": "code",
   "execution_count": 30,
   "metadata": {},
   "outputs": [
    {
     "name": "stdout",
     "output_type": "stream",
     "text": [
      "The autoreload extension is already loaded. To reload it, use:\n",
      "  %reload_ext autoreload\n"
     ]
    }
   ],
   "source": [
    "%load_ext autoreload\n",
    "%autoreload 2\n",
    "\n",
    "from ljpeg import ljpeg\n",
    "import re\n",
    "import sys\n",
    "import os\n",
    "import subprocess\n",
    "import shutil\n",
    "\n",
    "import matplotlib.pyplot as plt"
   ]
  },
  {
   "cell_type": "code",
   "execution_count": 13,
   "metadata": {},
   "outputs": [],
   "source": [
    "path = 'case0002/A_0002_1.LEFT_CC.LJPEG'\n",
    "x = ljpeg.read(path).astype('float')"
   ]
  },
  {
   "cell_type": "code",
   "execution_count": 37,
   "metadata": {
    "collapsed": true,
    "jupyter": {
     "outputs_hidden": true
    }
   },
   "outputs": [
    {
     "name": "stdout",
     "output_type": "stream",
     "text": [
      "['normal_09/case3631/B_3631_1.RIGHT_CC.LJPEG', 'normal_09/case3631/B_3631_1.LEFT_CC.LJPEG', 'normal_09/case3631/B_3631_1.LEFT_MLO.LJPEG', 'normal_09/case3631/B_3631_1.RIGHT_MLO.LJPEG'] ['B_3631_1.RIGHT_CC', 'B_3631_1.LEFT_CC', 'B_3631_1.LEFT_MLO', 'B_3631_1.RIGHT_MLO']\n",
      "['normal_09/case3655/B_3655_1.LEFT_CC.LJPEG', 'normal_09/case3655/B_3655_1.LEFT_MLO.LJPEG', 'normal_09/case3655/B_3655_1.RIGHT_CC.LJPEG', 'normal_09/case3655/B_3655_1.RIGHT_MLO.LJPEG'] ['B_3655_1.LEFT_CC', 'B_3655_1.LEFT_MLO', 'B_3655_1.RIGHT_CC', 'B_3655_1.RIGHT_MLO']\n",
      "['normal_09/case3659/B_3659_1.LEFT_MLO.LJPEG', 'normal_09/case3659/B_3659_1.RIGHT_CC.LJPEG', 'normal_09/case3659/B_3659_1.LEFT_CC.LJPEG', 'normal_09/case3659/B_3659_1.RIGHT_MLO.LJPEG'] ['B_3659_1.LEFT_MLO', 'B_3659_1.RIGHT_CC', 'B_3659_1.LEFT_CC', 'B_3659_1.RIGHT_MLO']\n",
      "['normal_09/case3630/B_3630_1.LEFT_CC.LJPEG', 'normal_09/case3630/B_3630_1.LEFT_MLO.LJPEG', 'normal_09/case3630/B_3630_1.RIGHT_MLO.LJPEG', 'normal_09/case3630/B_3630_1.RIGHT_CC.LJPEG'] ['B_3630_1.LEFT_CC', 'B_3630_1.LEFT_MLO', 'B_3630_1.RIGHT_MLO', 'B_3630_1.RIGHT_CC']\n",
      "['normal_09/case3626/B_3626_1.LEFT_MLO.LJPEG', 'normal_09/case3626/B_3626_1.LEFT_CC.LJPEG', 'normal_09/case3626/B_3626_1.RIGHT_MLO.LJPEG', 'normal_09/case3626/B_3626_1.RIGHT_CC.LJPEG'] ['B_3626_1.LEFT_MLO', 'B_3626_1.LEFT_CC', 'B_3626_1.RIGHT_MLO', 'B_3626_1.RIGHT_CC']\n",
      "['normal_09/case3644/B_3644_1.LEFT_CC.LJPEG', 'normal_09/case3644/B_3644_1.RIGHT_MLO.LJPEG', 'normal_09/case3644/B_3644_1.RIGHT_CC.LJPEG', 'normal_09/case3644/B_3644_1.LEFT_MLO.LJPEG'] ['B_3644_1.LEFT_CC', 'B_3644_1.RIGHT_MLO', 'B_3644_1.RIGHT_CC', 'B_3644_1.LEFT_MLO']\n",
      "['normal_09/case3603/B_3603_1.LEFT_CC.LJPEG', 'normal_09/case3603/B_3603_1.LEFT_MLO.LJPEG', 'normal_09/case3603/B_3603_1.RIGHT_CC.LJPEG', 'normal_09/case3603/B_3603_1.RIGHT_MLO.LJPEG'] ['B_3603_1.LEFT_CC', 'B_3603_1.LEFT_MLO', 'B_3603_1.RIGHT_CC', 'B_3603_1.RIGHT_MLO']\n",
      "['normal_09/case3636/B_3636_1.LEFT_CC.LJPEG', 'normal_09/case3636/B_3636_1.LEFT_MLO.LJPEG', 'normal_09/case3636/B_3636_1.RIGHT_CC.LJPEG', 'normal_09/case3636/B_3636_1.RIGHT_MLO.LJPEG'] ['B_3636_1.LEFT_CC', 'B_3636_1.LEFT_MLO', 'B_3636_1.RIGHT_CC', 'B_3636_1.RIGHT_MLO']\n",
      "['normal_09/case3633/B_3633_1.LEFT_CC.LJPEG', 'normal_09/case3633/B_3633_1.RIGHT_MLO.LJPEG', 'normal_09/case3633/B_3633_1.LEFT_MLO.LJPEG', 'normal_09/case3633/B_3633_1.RIGHT_CC.LJPEG'] ['B_3633_1.LEFT_CC', 'B_3633_1.RIGHT_MLO', 'B_3633_1.LEFT_MLO', 'B_3633_1.RIGHT_CC']\n",
      "['normal_09/case3623/B_3623_1.LEFT_CC.LJPEG', 'normal_09/case3623/B_3623_1.RIGHT_MLO.LJPEG', 'normal_09/case3623/B_3623_1.RIGHT_CC.LJPEG', 'normal_09/case3623/B_3623_1.LEFT_MLO.LJPEG'] ['B_3623_1.LEFT_CC', 'B_3623_1.RIGHT_MLO', 'B_3623_1.RIGHT_CC', 'B_3623_1.LEFT_MLO']\n",
      "['normal_09/case3601/B_3601_1.LEFT_CC.LJPEG', 'normal_09/case3601/B_3601_1.RIGHT_CC.LJPEG', 'normal_09/case3601/B_3601_1.RIGHT_MLO.LJPEG', 'normal_09/case3601/B_3601_1.LEFT_MLO.LJPEG'] ['B_3601_1.LEFT_CC', 'B_3601_1.RIGHT_CC', 'B_3601_1.RIGHT_MLO', 'B_3601_1.LEFT_MLO']\n",
      "['normal_09/case3607/B_3607_1.LEFT_MLO.LJPEG', 'normal_09/case3607/B_3607_1.RIGHT_CC.LJPEG', 'normal_09/case3607/B_3607_1.RIGHT_MLO.LJPEG', 'normal_09/case3607/B_3607_1.LEFT_CC.LJPEG'] ['B_3607_1.LEFT_MLO', 'B_3607_1.RIGHT_CC', 'B_3607_1.RIGHT_MLO', 'B_3607_1.LEFT_CC']\n",
      "['normal_09/case3606/B_3606_1.LEFT_MLO.LJPEG', 'normal_09/case3606/B_3606_1.LEFT_CC.LJPEG', 'normal_09/case3606/B_3606_1.RIGHT_CC.LJPEG', 'normal_09/case3606/B_3606_1.RIGHT_MLO.LJPEG'] ['B_3606_1.LEFT_MLO', 'B_3606_1.LEFT_CC', 'B_3606_1.RIGHT_CC', 'B_3606_1.RIGHT_MLO']\n",
      "['normal_09/case3650/B_3650_1.RIGHT_CC.LJPEG', 'normal_09/case3650/B_3650_1.RIGHT_MLO.LJPEG', 'normal_09/case3650/B_3650_1.LEFT_CC.LJPEG', 'normal_09/case3650/B_3650_1.LEFT_MLO.LJPEG'] ['B_3650_1.RIGHT_CC', 'B_3650_1.RIGHT_MLO', 'B_3650_1.LEFT_CC', 'B_3650_1.LEFT_MLO']\n",
      "['normal_09/case3653/B_3653_1.LEFT_CC.LJPEG', 'normal_09/case3653/B_3653_1.RIGHT_CC.LJPEG', 'normal_09/case3653/B_3653_1.RIGHT_MLO.LJPEG', 'normal_09/case3653/B_3653_1.LEFT_MLO.LJPEG'] ['B_3653_1.LEFT_CC', 'B_3653_1.RIGHT_CC', 'B_3653_1.RIGHT_MLO', 'B_3653_1.LEFT_MLO']\n",
      "['normal_09/case3634/B_3634_1.RIGHT_CC.LJPEG', 'normal_09/case3634/B_3634_1.LEFT_MLO.LJPEG', 'normal_09/case3634/B_3634_1.RIGHT_MLO.LJPEG', 'normal_09/case3634/B_3634_1.LEFT_CC.LJPEG'] ['B_3634_1.RIGHT_CC', 'B_3634_1.LEFT_MLO', 'B_3634_1.RIGHT_MLO', 'B_3634_1.LEFT_CC']\n",
      "['normal_09/case3645/B_3645_1.RIGHT_MLO.LJPEG', 'normal_09/case3645/B_3645_1.LEFT_CC.LJPEG', 'normal_09/case3645/B_3645_1.RIGHT_CC.LJPEG', 'normal_09/case3645/B_3645_1.LEFT_MLO.LJPEG'] ['B_3645_1.RIGHT_MLO', 'B_3645_1.LEFT_CC', 'B_3645_1.RIGHT_CC', 'B_3645_1.LEFT_MLO']\n",
      "['normal_09/case3608/B_3608_1.LEFT_CC.LJPEG', 'normal_09/case3608/B_3608_1.LEFT_MLO.LJPEG', 'normal_09/case3608/B_3608_1.RIGHT_MLO.LJPEG', 'normal_09/case3608/B_3608_1.RIGHT_CC.LJPEG'] ['B_3608_1.LEFT_CC', 'B_3608_1.LEFT_MLO', 'B_3608_1.RIGHT_MLO', 'B_3608_1.RIGHT_CC']\n",
      "['normal_09/case3649/B_3649_1.LEFT_CC.LJPEG', 'normal_09/case3649/B_3649_1.RIGHT_MLO.LJPEG', 'normal_09/case3649/B_3649_1.RIGHT_CC.LJPEG', 'normal_09/case3649/B_3649_1.LEFT_MLO.LJPEG'] ['B_3649_1.LEFT_CC', 'B_3649_1.RIGHT_MLO', 'B_3649_1.RIGHT_CC', 'B_3649_1.LEFT_MLO']\n",
      "['normal_09/case3619/B_3619_1.LEFT_MLO.LJPEG', 'normal_09/case3619/B_3619_1.RIGHT_MLO.LJPEG', 'normal_09/case3619/B_3619_1.LEFT_CC.LJPEG', 'normal_09/case3619/B_3619_1.RIGHT_CC.LJPEG'] ['B_3619_1.LEFT_MLO', 'B_3619_1.RIGHT_MLO', 'B_3619_1.LEFT_CC', 'B_3619_1.RIGHT_CC']\n",
      "['normal_09/case3611/B_3611_1.LEFT_CC.LJPEG', 'normal_09/case3611/B_3611_1.RIGHT_CC.LJPEG', 'normal_09/case3611/B_3611_1.RIGHT_MLO.LJPEG', 'normal_09/case3611/B_3611_1.LEFT_MLO.LJPEG'] ['B_3611_1.LEFT_CC', 'B_3611_1.RIGHT_CC', 'B_3611_1.RIGHT_MLO', 'B_3611_1.LEFT_MLO']\n",
      "['normal_09/case3652/B_3652_1.LEFT_MLO.LJPEG', 'normal_09/case3652/B_3652_1.RIGHT_CC.LJPEG', 'normal_09/case3652/B_3652_1.RIGHT_MLO.LJPEG', 'normal_09/case3652/B_3652_1.LEFT_CC.LJPEG'] ['B_3652_1.LEFT_MLO', 'B_3652_1.RIGHT_CC', 'B_3652_1.RIGHT_MLO', 'B_3652_1.LEFT_CC']\n",
      "['normal_09/case3642/B_3642_1.RIGHT_CC.LJPEG', 'normal_09/case3642/B_3642_1.RIGHT_MLO.LJPEG', 'normal_09/case3642/B_3642_1.LEFT_MLO.LJPEG', 'normal_09/case3642/B_3642_1.LEFT_CC.LJPEG'] ['B_3642_1.RIGHT_CC', 'B_3642_1.RIGHT_MLO', 'B_3642_1.LEFT_MLO', 'B_3642_1.LEFT_CC']\n",
      "['normal_09/case3604/B_3604_1.LEFT_MLO.LJPEG', 'normal_09/case3604/B_3604_1.LEFT_CC.LJPEG', 'normal_09/case3604/B_3604_1.RIGHT_MLO.LJPEG', 'normal_09/case3604/B_3604_1.RIGHT_CC.LJPEG'] ['B_3604_1.LEFT_MLO', 'B_3604_1.LEFT_CC', 'B_3604_1.RIGHT_MLO', 'B_3604_1.RIGHT_CC']\n",
      "['normal_09/case3618/B_3618_1.RIGHT_CC.LJPEG', 'normal_09/case3618/B_3618_1.RIGHT_MLO.LJPEG', 'normal_09/case3618/B_3618_1.LEFT_CC.LJPEG', 'normal_09/case3618/B_3618_1.LEFT_MLO.LJPEG'] ['B_3618_1.RIGHT_CC', 'B_3618_1.RIGHT_MLO', 'B_3618_1.LEFT_CC', 'B_3618_1.LEFT_MLO']\n",
      "['normal_09/case3616/B_3616_1.LEFT_CC.LJPEG', 'normal_09/case3616/B_3616_1.RIGHT_CC.LJPEG', 'normal_09/case3616/B_3616_1.LEFT_MLO.LJPEG', 'normal_09/case3616/B_3616_1.RIGHT_MLO.LJPEG'] ['B_3616_1.LEFT_CC', 'B_3616_1.RIGHT_CC', 'B_3616_1.LEFT_MLO', 'B_3616_1.RIGHT_MLO']\n",
      "['normal_09/case3628/B_3628_1.RIGHT_CC.LJPEG', 'normal_09/case3628/B_3628_1.RIGHT_MLO.LJPEG', 'normal_09/case3628/B_3628_1.LEFT_MLO.LJPEG', 'normal_09/case3628/B_3628_1.LEFT_CC.LJPEG'] ['B_3628_1.RIGHT_CC', 'B_3628_1.RIGHT_MLO', 'B_3628_1.LEFT_MLO', 'B_3628_1.LEFT_CC']\n",
      "['normal_09/case3605/B_3605_1.LEFT_CC.LJPEG', 'normal_09/case3605/B_3605_1.RIGHT_MLO.LJPEG', 'normal_09/case3605/B_3605_1.RIGHT_CC.LJPEG', 'normal_09/case3605/B_3605_1.LEFT_MLO.LJPEG'] ['B_3605_1.LEFT_CC', 'B_3605_1.RIGHT_MLO', 'B_3605_1.RIGHT_CC', 'B_3605_1.LEFT_MLO']\n",
      "['normal_09/case3614/B_3614_1.LEFT_CC.LJPEG', 'normal_09/case3614/B_3614_1.RIGHT_MLO.LJPEG', 'normal_09/case3614/B_3614_1.RIGHT_CC.LJPEG', 'normal_09/case3614/B_3614_1.LEFT_MLO.LJPEG'] ['B_3614_1.LEFT_CC', 'B_3614_1.RIGHT_MLO', 'B_3614_1.RIGHT_CC', 'B_3614_1.LEFT_MLO']\n",
      "['normal_09/case3613/B_3613_1.LEFT_MLO.LJPEG', 'normal_09/case3613/B_3613_1.RIGHT_MLO.LJPEG', 'normal_09/case3613/B_3613_1.RIGHT_CC.LJPEG', 'normal_09/case3613/B_3613_1.LEFT_CC.LJPEG'] ['B_3613_1.LEFT_MLO', 'B_3613_1.RIGHT_MLO', 'B_3613_1.RIGHT_CC', 'B_3613_1.LEFT_CC']\n",
      "['normal_09/case3612/B_3612_1.LEFT_CC.LJPEG', 'normal_09/case3612/B_3612_1.RIGHT_CC.LJPEG', 'normal_09/case3612/B_3612_1.LEFT_MLO.LJPEG', 'normal_09/case3612/B_3612_1.RIGHT_MLO.LJPEG'] ['B_3612_1.LEFT_CC', 'B_3612_1.RIGHT_CC', 'B_3612_1.LEFT_MLO', 'B_3612_1.RIGHT_MLO']\n",
      "['normal_09/case3656/B_3656_1.LEFT_CC.LJPEG', 'normal_09/case3656/B_3656_1.LEFT_MLO.LJPEG', 'normal_09/case3656/B_3656_1.RIGHT_CC.LJPEG', 'normal_09/case3656/B_3656_1.RIGHT_MLO.LJPEG'] ['B_3656_1.LEFT_CC', 'B_3656_1.LEFT_MLO', 'B_3656_1.RIGHT_CC', 'B_3656_1.RIGHT_MLO']\n",
      "['normal_09/case3638/B_3638_1.RIGHT_MLO.LJPEG', 'normal_09/case3638/B_3638_1.LEFT_CC.LJPEG', 'normal_09/case3638/B_3638_1.RIGHT_CC.LJPEG', 'normal_09/case3638/B_3638_1.LEFT_MLO.LJPEG'] ['B_3638_1.RIGHT_MLO', 'B_3638_1.LEFT_CC', 'B_3638_1.RIGHT_CC', 'B_3638_1.LEFT_MLO']\n",
      "['normal_09/case3629/B_3629_1.LEFT_MLO.LJPEG', 'normal_09/case3629/B_3629_1.RIGHT_MLO.LJPEG', 'normal_09/case3629/B_3629_1.RIGHT_CC.LJPEG', 'normal_09/case3629/B_3629_1.LEFT_CC.LJPEG'] ['B_3629_1.LEFT_MLO', 'B_3629_1.RIGHT_MLO', 'B_3629_1.RIGHT_CC', 'B_3629_1.LEFT_CC']\n",
      "['normal_09/case3621/B_3621_1.LEFT_CC.LJPEG', 'normal_09/case3621/B_3621_1.RIGHT_MLO.LJPEG', 'normal_09/case3621/B_3621_1.RIGHT_CC.LJPEG', 'normal_09/case3621/B_3621_1.LEFT_MLO.LJPEG'] ['B_3621_1.LEFT_CC', 'B_3621_1.RIGHT_MLO', 'B_3621_1.RIGHT_CC', 'B_3621_1.LEFT_MLO']\n",
      "['normal_09/case3600/B_3600_1.RIGHT_MLO.LJPEG', 'normal_09/case3600/B_3600_1.LEFT_MLO.LJPEG', 'normal_09/case3600/B_3600_1.RIGHT_CC.LJPEG', 'normal_09/case3600/B_3600_1.LEFT_CC.LJPEG'] ['B_3600_1.RIGHT_MLO', 'B_3600_1.LEFT_MLO', 'B_3600_1.RIGHT_CC', 'B_3600_1.LEFT_CC']\n",
      "['normal_09/case3622/B_3622_1.RIGHT_CC.LJPEG', 'normal_09/case3622/B_3622_1.LEFT_MLO.LJPEG', 'normal_09/case3622/B_3622_1.LEFT_CC.LJPEG', 'normal_09/case3622/B_3622_1.RIGHT_MLO.LJPEG'] ['B_3622_1.RIGHT_CC', 'B_3622_1.LEFT_MLO', 'B_3622_1.LEFT_CC', 'B_3622_1.RIGHT_MLO']\n",
      "['normal_09/case3657/B_3657_1.LEFT_CC.LJPEG', 'normal_09/case3657/B_3657_1.RIGHT_MLO.LJPEG', 'normal_09/case3657/B_3657_1.RIGHT_CC.LJPEG', 'normal_09/case3657/B_3657_1.LEFT_MLO.LJPEG'] ['B_3657_1.LEFT_CC', 'B_3657_1.RIGHT_MLO', 'B_3657_1.RIGHT_CC', 'B_3657_1.LEFT_MLO']\n",
      "['normal_09/case3637/B_3637_1.LEFT_CC.LJPEG', 'normal_09/case3637/B_3637_1.RIGHT_MLO.LJPEG', 'normal_09/case3637/B_3637_1.LEFT_MLO.LJPEG', 'normal_09/case3637/B_3637_1.RIGHT_CC.LJPEG'] ['B_3637_1.LEFT_CC', 'B_3637_1.RIGHT_MLO', 'B_3637_1.LEFT_MLO', 'B_3637_1.RIGHT_CC']\n",
      "['normal_09/case3609/B_3609_1.LEFT_MLO.LJPEG', 'normal_09/case3609/B_3609_1.RIGHT_MLO.LJPEG', 'normal_09/case3609/B_3609_1.LEFT_CC.LJPEG', 'normal_09/case3609/B_3609_1.RIGHT_CC.LJPEG'] ['B_3609_1.LEFT_MLO', 'B_3609_1.RIGHT_MLO', 'B_3609_1.LEFT_CC', 'B_3609_1.RIGHT_CC']\n",
      "['normal_09/case3646/B_3646_1.LEFT_CC.LJPEG', 'normal_09/case3646/B_3646_1.RIGHT_MLO.LJPEG', 'normal_09/case3646/B_3646_1.LEFT_MLO.LJPEG', 'normal_09/case3646/B_3646_1.RIGHT_CC.LJPEG'] ['B_3646_1.LEFT_CC', 'B_3646_1.RIGHT_MLO', 'B_3646_1.LEFT_MLO', 'B_3646_1.RIGHT_CC']\n",
      "['normal_09/case3640/B_3640_1.LEFT_MLO.LJPEG', 'normal_09/case3640/B_3640_1.LEFT_CC.LJPEG', 'normal_09/case3640/B_3640_1.RIGHT_CC.LJPEG', 'normal_09/case3640/B_3640_1.RIGHT_MLO.LJPEG'] ['B_3640_1.LEFT_MLO', 'B_3640_1.LEFT_CC', 'B_3640_1.RIGHT_CC', 'B_3640_1.RIGHT_MLO']\n",
      "['normal_09/case3635/B_3635_1.RIGHT_CC.LJPEG', 'normal_09/case3635/B_3635_1.LEFT_MLO.LJPEG', 'normal_09/case3635/B_3635_1.RIGHT_MLO.LJPEG', 'normal_09/case3635/B_3635_1.LEFT_CC.LJPEG'] ['B_3635_1.RIGHT_CC', 'B_3635_1.LEFT_MLO', 'B_3635_1.RIGHT_MLO', 'B_3635_1.LEFT_CC']\n",
      "['normal_09/case3624/B_3624_1.RIGHT_CC.LJPEG', 'normal_09/case3624/B_3624_1.LEFT_CC.LJPEG', 'normal_09/case3624/B_3624_1.RIGHT_MLO.LJPEG', 'normal_09/case3624/B_3624_1.LEFT_MLO.LJPEG'] ['B_3624_1.RIGHT_CC', 'B_3624_1.LEFT_CC', 'B_3624_1.RIGHT_MLO', 'B_3624_1.LEFT_MLO']\n",
      "['normal_09/case3643/B_3643_1.LEFT_MLO.LJPEG', 'normal_09/case3643/B_3643_1.LEFT_CC.LJPEG', 'normal_09/case3643/B_3643_1.RIGHT_MLO.LJPEG', 'normal_09/case3643/B_3643_1.RIGHT_CC.LJPEG'] ['B_3643_1.LEFT_MLO', 'B_3643_1.LEFT_CC', 'B_3643_1.RIGHT_MLO', 'B_3643_1.RIGHT_CC']\n",
      "['normal_09/case3632/B_3632_1.RIGHT_MLO.LJPEG', 'normal_09/case3632/B_3632_1.RIGHT_CC.LJPEG', 'normal_09/case3632/B_3632_1.LEFT_CC.LJPEG', 'normal_09/case3632/B_3632_1.LEFT_MLO.LJPEG'] ['B_3632_1.RIGHT_MLO', 'B_3632_1.RIGHT_CC', 'B_3632_1.LEFT_CC', 'B_3632_1.LEFT_MLO']\n",
      "['normal_09/case3602/B_3602_1.RIGHT_MLO.LJPEG', 'normal_09/case3602/B_3602_1.LEFT_MLO.LJPEG', 'normal_09/case3602/B_3602_1.LEFT_CC.LJPEG', 'normal_09/case3602/B_3602_1.RIGHT_CC.LJPEG'] ['B_3602_1.RIGHT_MLO', 'B_3602_1.LEFT_MLO', 'B_3602_1.LEFT_CC', 'B_3602_1.RIGHT_CC']\n",
      "['normal_09/case3615/B_3615_1.RIGHT_MLO.LJPEG', 'normal_09/case3615/B_3615_1.LEFT_CC.LJPEG', 'normal_09/case3615/B_3615_1.RIGHT_CC.LJPEG', 'normal_09/case3615/B_3615_1.LEFT_MLO.LJPEG'] ['B_3615_1.RIGHT_MLO', 'B_3615_1.LEFT_CC', 'B_3615_1.RIGHT_CC', 'B_3615_1.LEFT_MLO']\n",
      "['normal_09/case3647/B_3647_1.LEFT_MLO.LJPEG', 'normal_09/case3647/B_3647_1.RIGHT_MLO.LJPEG', 'normal_09/case3647/B_3647_1.LEFT_CC.LJPEG', 'normal_09/case3647/B_3647_1.RIGHT_CC.LJPEG'] ['B_3647_1.LEFT_MLO', 'B_3647_1.RIGHT_MLO', 'B_3647_1.LEFT_CC', 'B_3647_1.RIGHT_CC']\n",
      "['normal_09/case3617/B_3617_1.RIGHT_CC.LJPEG', 'normal_09/case3617/B_3617_1.LEFT_MLO.LJPEG', 'normal_09/case3617/B_3617_1.LEFT_CC.LJPEG', 'normal_09/case3617/B_3617_1.RIGHT_MLO.LJPEG'] ['B_3617_1.RIGHT_CC', 'B_3617_1.LEFT_MLO', 'B_3617_1.LEFT_CC', 'B_3617_1.RIGHT_MLO']\n",
      "['normal_09/case3654/B_3654_1.RIGHT_CC.LJPEG', 'normal_09/case3654/B_3654_1.RIGHT_MLO.LJPEG', 'normal_09/case3654/B_3654_1.LEFT_CC.LJPEG', 'normal_09/case3654/B_3654_1.LEFT_MLO.LJPEG'] ['B_3654_1.RIGHT_CC', 'B_3654_1.RIGHT_MLO', 'B_3654_1.LEFT_CC', 'B_3654_1.LEFT_MLO']\n",
      "['normal_09/case3641/B_3641_1.RIGHT_CC.LJPEG', 'normal_09/case3641/B_3641_1.RIGHT_MLO.LJPEG', 'normal_09/case3641/B_3641_1.LEFT_CC.LJPEG', 'normal_09/case3641/B_3641_1.LEFT_MLO.LJPEG'] ['B_3641_1.RIGHT_CC', 'B_3641_1.RIGHT_MLO', 'B_3641_1.LEFT_CC', 'B_3641_1.LEFT_MLO']\n",
      "['normal_09/case3625/B_3625_1.LEFT_CC.LJPEG', 'normal_09/case3625/B_3625_1.RIGHT_CC.LJPEG', 'normal_09/case3625/B_3625_1.RIGHT_MLO.LJPEG', 'normal_09/case3625/B_3625_1.LEFT_MLO.LJPEG'] ['B_3625_1.LEFT_CC', 'B_3625_1.RIGHT_CC', 'B_3625_1.RIGHT_MLO', 'B_3625_1.LEFT_MLO']\n",
      "['normal_09/case3620/B_3620_1.RIGHT_CC.LJPEG', 'normal_09/case3620/B_3620_1.RIGHT_MLO.LJPEG', 'normal_09/case3620/B_3620_1.LEFT_CC.LJPEG', 'normal_09/case3620/B_3620_1.LEFT_MLO.LJPEG'] ['B_3620_1.RIGHT_CC', 'B_3620_1.RIGHT_MLO', 'B_3620_1.LEFT_CC', 'B_3620_1.LEFT_MLO']\n",
      "['normal_09/case3639/B_3639_1.LEFT_MLO.LJPEG', 'normal_09/case3639/B_3639_1.RIGHT_MLO.LJPEG', 'normal_09/case3639/B_3639_1.RIGHT_CC.LJPEG', 'normal_09/case3639/B_3639_1.LEFT_CC.LJPEG'] ['B_3639_1.LEFT_MLO', 'B_3639_1.RIGHT_MLO', 'B_3639_1.RIGHT_CC', 'B_3639_1.LEFT_CC']\n",
      "['normal_09/case3651/B_3651_1.RIGHT_CC.LJPEG', 'normal_09/case3651/B_3651_1.RIGHT_MLO.LJPEG', 'normal_09/case3651/B_3651_1.LEFT_CC.LJPEG', 'normal_09/case3651/B_3651_1.LEFT_MLO.LJPEG'] ['B_3651_1.RIGHT_CC', 'B_3651_1.RIGHT_MLO', 'B_3651_1.LEFT_CC', 'B_3651_1.LEFT_MLO']\n",
      "['normal_09/case3627/B_3627_1.LEFT_MLO.LJPEG', 'normal_09/case3627/B_3627_1.RIGHT_MLO.LJPEG', 'normal_09/case3627/B_3627_1.LEFT_CC.LJPEG', 'normal_09/case3627/B_3627_1.RIGHT_CC.LJPEG'] ['B_3627_1.LEFT_MLO', 'B_3627_1.RIGHT_MLO', 'B_3627_1.LEFT_CC', 'B_3627_1.RIGHT_CC']\n",
      "['normal_09/case3648/B_3648_1.RIGHT_CC.LJPEG', 'normal_09/case3648/B_3648_1.LEFT_CC.LJPEG', 'normal_09/case3648/B_3648_1.LEFT_MLO.LJPEG', 'normal_09/case3648/B_3648_1.RIGHT_MLO.LJPEG'] ['B_3648_1.RIGHT_CC', 'B_3648_1.LEFT_CC', 'B_3648_1.LEFT_MLO', 'B_3648_1.RIGHT_MLO']\n",
      "['normal_09/case3610/B_3610_1.RIGHT_CC.LJPEG', 'normal_09/case3610/B_3610_1.RIGHT_MLO.LJPEG', 'normal_09/case3610/B_3610_1.LEFT_MLO.LJPEG', 'normal_09/case3610/B_3610_1.LEFT_CC.LJPEG'] ['B_3610_1.RIGHT_CC', 'B_3610_1.RIGHT_MLO', 'B_3610_1.LEFT_MLO', 'B_3610_1.LEFT_CC']\n"
     ]
    },
    {
     "data": {
      "text/plain": [
       "0"
      ]
     },
     "execution_count": 37,
     "metadata": {},
     "output_type": "execute_result"
    }
   ],
   "source": [
    "def make_jpg(root_dir):\n",
    "    \n",
    "    root = root_dir\n",
    "    dirs = [d for d in os.listdir(root)]\n",
    "    for d in dirs:\n",
    "        path = os.path.join(root,d)\n",
    "\n",
    "        # Get file params\n",
    "        files = [f for f in os.listdir(path) if '.LJPEG' in f]\n",
    "        file_paths = [os.path.join(path,f) for f in files]\n",
    "        file_names = [os.path.splitext(f)[0] for f in files]\n",
    "        print(file_paths)\n",
    "\n",
    "        for n, p in zip(file_names, file_paths):\n",
    "            os.system(f'./ljpeg.py {p} {n}.jpg --visual --scale 1.0')\n",
    "    return 0\n",
    "\n",
    "\n",
    "def cc_mlo_move():\n",
    "    files = [f for f in os.listdir() if '.jpg' in f]\n",
    "    cc_path = os.path.join(os.getcwd(), 'cc')\n",
    "    mlo_path = os.path.join(os.getcwd(), 'mlo')\n",
    "    \n",
    "    for f in files:\n",
    "        file_old_path = os.path.join(os.getcwd(), f)\n",
    "        if 'CC' in f:            \n",
    "            file_new_path = os.path.join(cc_path, f)\n",
    "            shutil.move(file_old_path, file_new_path)\n",
    "        else:\n",
    "            file_new_path = os.path.join(mlo_path, f)\n",
    "            shutil.move(file_old_path, file_new_path)\n",
    "        \n",
    "    return 0   "
   ]
  },
  {
   "cell_type": "code",
   "execution_count": 43,
   "metadata": {
    "collapsed": true,
    "jupyter": {
     "outputs_hidden": true
    }
   },
   "outputs": [
    {
     "name": "stdout",
     "output_type": "stream",
     "text": [
      "['normal_12/case2036/A_2036_1.LEFT_CC.LJPEG', 'normal_12/case2036/A_2036_1.RIGHT_MLO.LJPEG', 'normal_12/case2036/A_2036_1.LEFT_MLO.LJPEG', 'normal_12/case2036/A_2036_1.RIGHT_CC.LJPEG'] ['A_2036_1.LEFT_CC', 'A_2036_1.RIGHT_MLO', 'A_2036_1.LEFT_MLO', 'A_2036_1.RIGHT_CC']\n",
      "['normal_12/case2038/A_2038_1.RIGHT_MLO.LJPEG', 'normal_12/case2038/A_2038_1.LEFT_MLO.LJPEG', 'normal_12/case2038/A_2038_1.RIGHT_CC.LJPEG', 'normal_12/case2038/A_2038_1.LEFT_CC.LJPEG'] ['A_2038_1.RIGHT_MLO', 'A_2038_1.LEFT_MLO', 'A_2038_1.RIGHT_CC', 'A_2038_1.LEFT_CC']\n",
      "['normal_12/case2034/A_2034_1.RIGHT_MLO.LJPEG', 'normal_12/case2034/A_2034_1.LEFT_MLO.LJPEG', 'normal_12/case2034/A_2034_1.LEFT_CC.LJPEG', 'normal_12/case2034/A_2034_1.RIGHT_CC.LJPEG'] ['A_2034_1.RIGHT_MLO', 'A_2034_1.LEFT_MLO', 'A_2034_1.LEFT_CC', 'A_2034_1.RIGHT_CC']\n",
      "['normal_12/case2031/A_2031_1.LEFT_CC.LJPEG', 'normal_12/case2031/A_2031_1.RIGHT_CC.LJPEG', 'normal_12/case2031/A_2031_1.RIGHT_MLO.LJPEG', 'normal_12/case2031/A_2031_1.LEFT_MLO.LJPEG.1', 'normal_12/case2031/A_2031_1.LEFT_MLO.LJPEG'] ['A_2031_1.LEFT_CC', 'A_2031_1.RIGHT_CC', 'A_2031_1.RIGHT_MLO', 'A_2031_1.LEFT_MLO.LJPEG', 'A_2031_1.LEFT_MLO']\n",
      "['normal_12/case2035/A_2035_1.RIGHT_MLO.LJPEG', 'normal_12/case2035/A_2035_1.LEFT_MLO.LJPEG', 'normal_12/case2035/A_2035_1.RIGHT_CC.LJPEG', 'normal_12/case2035/A_2035_1.LEFT_CC.LJPEG'] ['A_2035_1.RIGHT_MLO', 'A_2035_1.LEFT_MLO', 'A_2035_1.RIGHT_CC', 'A_2035_1.LEFT_CC']\n",
      "['normal_12/case2029/A_2029_1.LEFT_MLO.LJPEG', 'normal_12/case2029/A_2029_1.LEFT_CC.LJPEG', 'normal_12/case2029/A_2029_1.RIGHT_CC.LJPEG', 'normal_12/case2029/A_2029_1.RIGHT_MLO.LJPEG'] ['A_2029_1.LEFT_MLO', 'A_2029_1.LEFT_CC', 'A_2029_1.RIGHT_CC', 'A_2029_1.RIGHT_MLO']\n",
      "['normal_12/case2027/A_2027_1.RIGHT_CC.LJPEG', 'normal_12/case2027/A_2027_1.RIGHT_MLO.LJPEG', 'normal_12/case2027/A_2027_1.LEFT_MLO.LJPEG', 'normal_12/case2027/A_2027_1.LEFT_CC.LJPEG'] ['A_2027_1.RIGHT_CC', 'A_2027_1.RIGHT_MLO', 'A_2027_1.LEFT_MLO', 'A_2027_1.LEFT_CC']\n",
      "['normal_12/case2041/A_2041_1.LEFT_CC.LJPEG', 'normal_12/case2041/A_2041_1.RIGHT_CC.LJPEG', 'normal_12/case2041/A_2041_1.LEFT_MLO.LJPEG', 'normal_12/case2041/A_2041_1.RIGHT_MLO.LJPEG'] ['A_2041_1.LEFT_CC', 'A_2041_1.RIGHT_CC', 'A_2041_1.LEFT_MLO', 'A_2041_1.RIGHT_MLO']\n",
      "['normal_12/case2040/A_2040_1.LEFT_MLO.LJPEG', 'normal_12/case2040/A_2040_1.RIGHT_MLO.LJPEG', 'normal_12/case2040/A_2040_1.RIGHT_CC.LJPEG', 'normal_12/case2040/A_2040_1.LEFT_CC.LJPEG'] ['A_2040_1.LEFT_MLO', 'A_2040_1.RIGHT_MLO', 'A_2040_1.RIGHT_CC', 'A_2040_1.LEFT_CC']\n",
      "['normal_12/case2032/A_2032_1.LEFT_CC.LJPEG', 'normal_12/case2032/A_2032_1.LEFT_MLO.LJPEG', 'normal_12/case2032/A_2032_1.RIGHT_CC.LJPEG', 'normal_12/case2032/A_2032_1.RIGHT_MLO.LJPEG'] ['A_2032_1.LEFT_CC', 'A_2032_1.LEFT_MLO', 'A_2032_1.RIGHT_CC', 'A_2032_1.RIGHT_MLO']\n",
      "['normal_12/case2028/A_2028_1.RIGHT_CC.LJPEG', 'normal_12/case2028/A_2028_1.LEFT_CC.LJPEG', 'normal_12/case2028/A_2028_1.RIGHT_MLO.LJPEG', 'normal_12/case2028/A_2028_1.LEFT_MLO.LJPEG'] ['A_2028_1.RIGHT_CC', 'A_2028_1.LEFT_CC', 'A_2028_1.RIGHT_MLO', 'A_2028_1.LEFT_MLO']\n",
      "['normal_12/case2023/A_2023_1.LEFT_CC.LJPEG', 'normal_12/case2023/A_2023_1.LEFT_MLO.LJPEG', 'normal_12/case2023/A_2023_1.RIGHT_MLO.LJPEG', 'normal_12/case2023/A_2023_1.RIGHT_CC.LJPEG'] ['A_2023_1.LEFT_CC', 'A_2023_1.LEFT_MLO', 'A_2023_1.RIGHT_MLO', 'A_2023_1.RIGHT_CC']\n",
      "['normal_12/case2026/A_2026_1.LEFT_MLO.LJPEG', 'normal_12/case2026/A_2026_1.RIGHT_MLO.LJPEG', 'normal_12/case2026/A_2026_1.LEFT_CC.LJPEG', 'normal_12/case2026/A_2026_1.RIGHT_CC.LJPEG'] ['A_2026_1.LEFT_MLO', 'A_2026_1.RIGHT_MLO', 'A_2026_1.LEFT_CC', 'A_2026_1.RIGHT_CC']\n",
      "['normal_12/case2039/A_2039_1.LEFT_CC.LJPEG', 'normal_12/case2039/A_2039_1.RIGHT_MLO.LJPEG', 'normal_12/case2039/A_2039_1.RIGHT_CC.LJPEG', 'normal_12/case2039/A_2039_1.LEFT_MLO.LJPEG'] ['A_2039_1.LEFT_CC', 'A_2039_1.RIGHT_MLO', 'A_2039_1.RIGHT_CC', 'A_2039_1.LEFT_MLO']\n",
      "['normal_12/case2033/A_2033_1.RIGHT_CC.LJPEG', 'normal_12/case2033/A_2033_1.LEFT_CC.LJPEG', 'normal_12/case2033/A_2033_1.RIGHT_MLO.LJPEG', 'normal_12/case2033/A_2033_1.LEFT_MLO.LJPEG'] ['A_2033_1.RIGHT_CC', 'A_2033_1.LEFT_CC', 'A_2033_1.RIGHT_MLO', 'A_2033_1.LEFT_MLO']\n",
      "['normal_12/case2030/A_2030_1.LEFT_CC.LJPEG', 'normal_12/case2030/A_2030_1.LEFT_MLO.LJPEG', 'normal_12/case2030/A_2030_1.RIGHT_MLO.LJPEG', 'normal_12/case2030/A_2030_1.RIGHT_CC.LJPEG'] ['A_2030_1.LEFT_CC', 'A_2030_1.LEFT_MLO', 'A_2030_1.RIGHT_MLO', 'A_2030_1.RIGHT_CC']\n",
      "['normal_12/case2043/A_2043_1.RIGHT_MLO.LJPEG', 'normal_12/case2043/A_2043_1.LEFT_CC.LJPEG', 'normal_12/case2043/A_2043_1.RIGHT_CC.LJPEG', 'normal_12/case2043/A_2043_1.LEFT_MLO.LJPEG'] ['A_2043_1.RIGHT_MLO', 'A_2043_1.LEFT_CC', 'A_2043_1.RIGHT_CC', 'A_2043_1.LEFT_MLO']\n",
      "['normal_12/case2037/A_2037_1.RIGHT_CC.LJPEG', 'normal_12/case2037/A_2037_1.RIGHT_MLO.LJPEG', 'normal_12/case2037/A_2037_1.LEFT_MLO.LJPEG', 'normal_12/case2037/A_2037_1.LEFT_CC.LJPEG'] ['A_2037_1.RIGHT_CC', 'A_2037_1.RIGHT_MLO', 'A_2037_1.LEFT_MLO', 'A_2037_1.LEFT_CC']\n",
      "['normal_12/case2024/A_2024_1.LEFT_MLO.LJPEG', 'normal_12/case2024/A_2024_1.LEFT_CC.LJPEG', 'normal_12/case2024/A_2024_1.RIGHT_CC.LJPEG', 'normal_12/case2024/A_2024_1.RIGHT_MLO.LJPEG'] ['A_2024_1.LEFT_MLO', 'A_2024_1.LEFT_CC', 'A_2024_1.RIGHT_CC', 'A_2024_1.RIGHT_MLO']\n",
      "['normal_12/case2042/A_2042_1.LEFT_MLO.LJPEG', 'normal_12/case2042/A_2042_1.RIGHT_CC.LJPEG', 'normal_12/case2042/A_2042_1.RIGHT_MLO.LJPEG', 'normal_12/case2042/A_2042_1.LEFT_CC.LJPEG'] ['A_2042_1.LEFT_MLO', 'A_2042_1.RIGHT_CC', 'A_2042_1.RIGHT_MLO', 'A_2042_1.LEFT_CC']\n"
     ]
    },
    {
     "data": {
      "text/plain": [
       "0"
      ]
     },
     "execution_count": 43,
     "metadata": {},
     "output_type": "execute_result"
    }
   ],
   "source": [
    "make_jpg('normal_12')\n",
    "cc_mlo_move()\n",
    "#7, 8, 9, 11, 12"
   ]
  },
  {
   "cell_type": "code",
   "execution_count": 42,
   "metadata": {
    "collapsed": true,
    "jupyter": {
     "outputs_hidden": true
    }
   },
   "outputs": [
    {
     "name": "stdout",
     "output_type": "stream",
     "text": [
      "['normal_08/case4581/D_4581_1.LEFT_MLO.LJPEG', 'normal_08/case4581/D_4581_1.RIGHT_CC.LJPEG', 'normal_08/case4581/D_4581_1.LEFT_CC.LJPEG', 'normal_08/case4581/D_4581_1.RIGHT_MLO.LJPEG'] ['D_4581_1.LEFT_MLO', 'D_4581_1.RIGHT_CC', 'D_4581_1.LEFT_CC', 'D_4581_1.RIGHT_MLO']\n",
      "['normal_08/case4550/D_4550_1.LEFT_MLO.LJPEG', 'normal_08/case4550/D_4550_1.RIGHT_MLO.LJPEG', 'normal_08/case4550/D_4550_1.LEFT_CC.LJPEG', 'normal_08/case4550/D_4550_1.RIGHT_CC.LJPEG'] ['D_4550_1.LEFT_MLO', 'D_4550_1.RIGHT_MLO', 'D_4550_1.LEFT_CC', 'D_4550_1.RIGHT_CC']\n",
      "['normal_08/case4596/D_4596_1.RIGHT_CC.LJPEG', 'normal_08/case4596/D_4596_1.RIGHT_MLO.LJPEG', 'normal_08/case4596/D_4596_1.LEFT_MLO.LJPEG', 'normal_08/case4596/D_4596_1.LEFT_CC.LJPEG'] ['D_4596_1.RIGHT_CC', 'D_4596_1.RIGHT_MLO', 'D_4596_1.LEFT_MLO', 'D_4596_1.LEFT_CC']\n",
      "['normal_08/case4604/D_4604_1.LEFT_MLO.LJPEG', 'normal_08/case4604/D_4604_1.RIGHT_MLO.LJPEG', 'normal_08/case4604/D_4604_1.LEFT_CC.LJPEG', 'normal_08/case4604/D_4604_1.RIGHT_CC.LJPEG'] ['D_4604_1.LEFT_MLO', 'D_4604_1.RIGHT_MLO', 'D_4604_1.LEFT_CC', 'D_4604_1.RIGHT_CC']\n",
      "['normal_08/case4549/D_4549_1.RIGHT_MLO.LJPEG', 'normal_08/case4549/D_4549_1.LEFT_MLO.LJPEG', 'normal_08/case4549/D_4549_1.RIGHT_CC.LJPEG', 'normal_08/case4549/D_4549_1.LEFT_CC.LJPEG'] ['D_4549_1.RIGHT_MLO', 'D_4549_1.LEFT_MLO', 'D_4549_1.RIGHT_CC', 'D_4549_1.LEFT_CC']\n",
      "['normal_08/case4607/D_4607_1.RIGHT_MLO.LJPEG', 'normal_08/case4607/D_4607_1.LEFT_CC.LJPEG', 'normal_08/case4607/D_4607_1.RIGHT_CC.LJPEG', 'normal_08/case4607/D_4607_1.LEFT_MLO.LJPEG'] ['D_4607_1.RIGHT_MLO', 'D_4607_1.LEFT_CC', 'D_4607_1.RIGHT_CC', 'D_4607_1.LEFT_MLO']\n",
      "['normal_08/case4598/D_4598_1.LEFT_CC.LJPEG', 'normal_08/case4598/D_4598_1.LEFT_MLO.LJPEG', 'normal_08/case4598/D_4598_1.RIGHT_CC.LJPEG', 'normal_08/case4598/D_4598_1.RIGHT_MLO.LJPEG'] ['D_4598_1.LEFT_CC', 'D_4598_1.LEFT_MLO', 'D_4598_1.RIGHT_CC', 'D_4598_1.RIGHT_MLO']\n",
      "['normal_08/case4578/D_4578_1.RIGHT_MLO.LJPEG', 'normal_08/case4578/D_4578_1.LEFT_MLO.LJPEG', 'normal_08/case4578/D_4578_1.LEFT_CC.LJPEG', 'normal_08/case4578/D_4578_1.RIGHT_CC.LJPEG'] ['D_4578_1.RIGHT_MLO', 'D_4578_1.LEFT_MLO', 'D_4578_1.LEFT_CC', 'D_4578_1.RIGHT_CC']\n",
      "['normal_08/case4580/D_4580_1.RIGHT_CC.LJPEG', 'normal_08/case4580/D_4580_1.LEFT_CC.LJPEG', 'normal_08/case4580/D_4580_1.RIGHT_MLO.LJPEG', 'normal_08/case4580/D_4580_1.LEFT_MLO.LJPEG'] ['D_4580_1.RIGHT_CC', 'D_4580_1.LEFT_CC', 'D_4580_1.RIGHT_MLO', 'D_4580_1.LEFT_MLO']\n",
      "['normal_08/case4603/D_4603_1.LEFT_CC.LJPEG', 'normal_08/case4603/D_4603_1.LEFT_MLO.LJPEG', 'normal_08/case4603/D_4603_1.RIGHT_CC.LJPEG', 'normal_08/case4603/D_4603_1.RIGHT_MLO.LJPEG'] ['D_4603_1.LEFT_CC', 'D_4603_1.LEFT_MLO', 'D_4603_1.RIGHT_CC', 'D_4603_1.RIGHT_MLO']\n",
      "['normal_08/case4556/D_4556_1.RIGHT_MLO.LJPEG', 'normal_08/case4556/D_4556_1.LEFT_MLO.LJPEG', 'normal_08/case4556/D_4556_1.RIGHT_CC.LJPEG', 'normal_08/case4556/D_4556_1.LEFT_CC.LJPEG'] ['D_4556_1.RIGHT_MLO', 'D_4556_1.LEFT_MLO', 'D_4556_1.RIGHT_CC', 'D_4556_1.LEFT_CC']\n",
      "['normal_08/case4600/D_4600_1.LEFT_MLO.LJPEG', 'normal_08/case4600/D_4600_1.RIGHT_MLO.LJPEG', 'normal_08/case4600/D_4600_1.RIGHT_CC.LJPEG', 'normal_08/case4600/D_4600_1.LEFT_CC.LJPEG'] ['D_4600_1.LEFT_MLO', 'D_4600_1.RIGHT_MLO', 'D_4600_1.RIGHT_CC', 'D_4600_1.LEFT_CC']\n",
      "['normal_08/case4609/D_4609_1.RIGHT_CC.LJPEG', 'normal_08/case4609/D_4609_1.LEFT_MLO.LJPEG', 'normal_08/case4609/D_4609_1.RIGHT_MLO.LJPEG', 'normal_08/case4609/D_4609_1.LEFT_CC.LJPEG'] ['D_4609_1.RIGHT_CC', 'D_4609_1.LEFT_MLO', 'D_4609_1.RIGHT_MLO', 'D_4609_1.LEFT_CC']\n",
      "['normal_08/case4602/D_4602_1.RIGHT_CC.LJPEG', 'normal_08/case4602/D_4602_1.LEFT_CC.LJPEG', 'normal_08/case4602/D_4602_1.RIGHT_MLO.LJPEG', 'normal_08/case4602/D_4602_1.LEFT_MLO.LJPEG'] ['D_4602_1.RIGHT_CC', 'D_4602_1.LEFT_CC', 'D_4602_1.RIGHT_MLO', 'D_4602_1.LEFT_MLO']\n",
      "['normal_08/case4564/D_4564_1.LEFT_MLO.LJPEG', 'normal_08/case4564/D_4564_1.RIGHT_CC.LJPEG', 'normal_08/case4564/D_4564_1.LEFT_CC.LJPEG', 'normal_08/case4564/D_4564_1.RIGHT_MLO.LJPEG'] ['D_4564_1.LEFT_MLO', 'D_4564_1.RIGHT_CC', 'D_4564_1.LEFT_CC', 'D_4564_1.RIGHT_MLO']\n",
      "['normal_08/case4568/D_4568_1.RIGHT_CC.LJPEG', 'normal_08/case4568/D_4568_1.RIGHT_MLO.LJPEG', 'normal_08/case4568/D_4568_1.LEFT_MLO.LJPEG', 'normal_08/case4568/D_4568_1.LEFT_CC.LJPEG'] ['D_4568_1.RIGHT_CC', 'D_4568_1.RIGHT_MLO', 'D_4568_1.LEFT_MLO', 'D_4568_1.LEFT_CC']\n",
      "['normal_08/case4597/D_4597_1.RIGHT_CC.LJPEG', 'normal_08/case4597/D_4597_1.LEFT_MLO.LJPEG', 'normal_08/case4597/D_4597_1.RIGHT_MLO.LJPEG', 'normal_08/case4597/D_4597_1.LEFT_CC.LJPEG'] ['D_4597_1.RIGHT_CC', 'D_4597_1.LEFT_MLO', 'D_4597_1.RIGHT_MLO', 'D_4597_1.LEFT_CC']\n",
      "['normal_08/case4573/D_4573_1.RIGHT_MLO.LJPEG', 'normal_08/case4573/D_4573_1.RIGHT_CC.LJPEG', 'normal_08/case4573/D_4573_1.LEFT_CC.LJPEG', 'normal_08/case4573/D_4573_1.LEFT_MLO.LJPEG'] ['D_4573_1.RIGHT_MLO', 'D_4573_1.RIGHT_CC', 'D_4573_1.LEFT_CC', 'D_4573_1.LEFT_MLO']\n",
      "['normal_08/case4605/D_4605_1.RIGHT_CC.LJPEG', 'normal_08/case4605/D_4605_1.RIGHT_MLO.LJPEG', 'normal_08/case4605/D_4605_1.LEFT_CC.LJPEG', 'normal_08/case4605/D_4605_1.LEFT_MLO.LJPEG'] ['D_4605_1.RIGHT_CC', 'D_4605_1.RIGHT_MLO', 'D_4605_1.LEFT_CC', 'D_4605_1.LEFT_MLO']\n",
      "['normal_08/case4548/D_4548_1.RIGHT_MLO.LJPEG', 'normal_08/case4548/D_4548_1.LEFT_CC.LJPEG', 'normal_08/case4548/D_4548_1.LEFT_MLO.LJPEG', 'normal_08/case4548/D_4548_1.RIGHT_CC.LJPEG'] ['D_4548_1.RIGHT_MLO', 'D_4548_1.LEFT_CC', 'D_4548_1.LEFT_MLO', 'D_4548_1.RIGHT_CC']\n",
      "['normal_08/case4608/D_4608_1.RIGHT_CC.LJPEG', 'normal_08/case4608/D_4608_1.LEFT_MLO.LJPEG', 'normal_08/case4608/D_4608_1.RIGHT_MLO.LJPEG', 'normal_08/case4608/D_4608_1.LEFT_CC.LJPEG'] ['D_4608_1.RIGHT_CC', 'D_4608_1.LEFT_MLO', 'D_4608_1.RIGHT_MLO', 'D_4608_1.LEFT_CC']\n",
      "['normal_08/case4579/D_4579_1.LEFT_CC.LJPEG', 'normal_08/case4579/D_4579_1.RIGHT_MLO.LJPEG', 'normal_08/case4579/D_4579_1.LEFT_MLO.LJPEG', 'normal_08/case4579/D_4579_1.RIGHT_CC.LJPEG'] ['D_4579_1.LEFT_CC', 'D_4579_1.RIGHT_MLO', 'D_4579_1.LEFT_MLO', 'D_4579_1.RIGHT_CC']\n",
      "['normal_08/case4601/D_4601_1.LEFT_MLO.LJPEG', 'normal_08/case4601/D_4601_1.RIGHT_MLO.LJPEG', 'normal_08/case4601/D_4601_1.LEFT_CC.LJPEG', 'normal_08/case4601/D_4601_1.RIGHT_CC.LJPEG'] ['D_4601_1.LEFT_MLO', 'D_4601_1.RIGHT_MLO', 'D_4601_1.LEFT_CC', 'D_4601_1.RIGHT_CC']\n",
      "['normal_08/case4599/D_4599_1.RIGHT_MLO.LJPEG', 'normal_08/case4599/D_4599_1.LEFT_CC.LJPEG', 'normal_08/case4599/D_4599_1.LEFT_MLO.LJPEG', 'normal_08/case4599/D_4599_1.RIGHT_CC.LJPEG'] ['D_4599_1.RIGHT_MLO', 'D_4599_1.LEFT_CC', 'D_4599_1.LEFT_MLO', 'D_4599_1.RIGHT_CC']\n",
      "['normal_08/case4606/D_4606_1.LEFT_MLO.LJPEG', 'normal_08/case4606/D_4606_1.RIGHT_MLO.LJPEG', 'normal_08/case4606/D_4606_1.RIGHT_CC.LJPEG', 'normal_08/case4606/D_4606_1.LEFT_CC.LJPEG'] ['D_4606_1.LEFT_MLO', 'D_4606_1.RIGHT_MLO', 'D_4606_1.RIGHT_CC', 'D_4606_1.LEFT_CC']\n",
      "['normal_08/case4586/D_4586_1.RIGHT_MLO.LJPEG', 'normal_08/case4586/D_4586_1.LEFT_CC.LJPEG', 'normal_08/case4586/D_4586_1.RIGHT_CC.LJPEG', 'normal_08/case4586/D_4586_1.LEFT_MLO.LJPEG'] ['D_4586_1.RIGHT_MLO', 'D_4586_1.LEFT_CC', 'D_4586_1.RIGHT_CC', 'D_4586_1.LEFT_MLO']\n",
      "['normal_08/case4554/D_4554_1.LEFT_MLO.LJPEG', 'normal_08/case4554/D_4554_1.LEFT_CC.LJPEG', 'normal_08/case4554/D_4554_1.RIGHT_MLO.LJPEG', 'normal_08/case4554/D_4554_1.RIGHT_CC.LJPEG'] ['D_4554_1.LEFT_MLO', 'D_4554_1.LEFT_CC', 'D_4554_1.RIGHT_MLO', 'D_4554_1.RIGHT_CC']\n"
     ]
    },
    {
     "data": {
      "text/plain": [
       "0"
      ]
     },
     "execution_count": 42,
     "metadata": {},
     "output_type": "execute_result"
    }
   ],
   "source": []
  },
  {
   "cell_type": "code",
   "execution_count": 14,
   "metadata": {},
   "outputs": [
    {
     "data": {
      "text/plain": [
       "0"
      ]
     },
     "execution_count": 14,
     "metadata": {},
     "output_type": "execute_result"
    }
   ],
   "source": [
    "os.system('./ljpeg.py case0002/A_0002_1.LEFT_CC.LJPEG output.jpg --visual --scale 1.0')"
   ]
  },
  {
   "cell_type": "code",
   "execution_count": 11,
   "metadata": {},
   "outputs": [
    {
     "data": {
      "text/plain": [
       "<matplotlib.image.AxesImage at 0x7f0d312f2d10>"
      ]
     },
     "execution_count": 11,
     "metadata": {},
     "output_type": "execute_result"
    },
    {
     "data": {
      "image/png": "[encoded data removed]",
      "text/plain": [
       "<Figure size 432x288 with 1 Axes>"
      ]
     },
     "metadata": {
      "needs_background": "light"
     },
     "output_type": "display_data"
    }
   ],
   "source": [
    "plt.imshow(x)"
   ]
  },
  {
   "cell_type": "code",
   "execution_count": 5,
   "metadata": {},
   "outputs": [
    {
     "name": "stdout",
     "output_type": "stream",
     "text": [
      "case0002 case0002/A_0002_1.LEFT_CC\n"
     ]
    },
    {
     "data": {
      "text/plain": [
       "'case0002/A-0002-1.ics'"
      ]
     },
     "execution_count": 5,
     "metadata": {},
     "output_type": "execute_result"
    }
   ],
   "source": [
    "import os\n",
    "import glob\n",
    "path = 'case0002/A_0002_1.LEFT_CC.LJPEG'\n",
    "root = os.path.dirname(path)\n",
    "stem = os.path.splitext(path)[0]\n",
    "print(root, stem)\n",
    "\n",
    "# read ICS\n",
    "ics = glob.glob('*'+root + '/*.ics')[0]\n",
    "ics"
   ]
  },
  {
   "cell_type": "code",
   "execution_count": 61,
   "metadata": {},
   "outputs": [
    {
     "data": {
      "text/plain": [
       "<matplotlib.image.AxesImage at 0x7f6b14624290>"
      ]
     },
     "execution_count": 61,
     "metadata": {},
     "output_type": "execute_result"
    },
    {
     "data": {
      "image/png": "[encoded data removed]",
      "text/plain": [
       "<Figure size 432x288 with 1 Axes>"
      ]
     },
     "metadata": {
      "needs_background": "light"
     },
     "output_type": "display_data"
    }
   ],
   "source": [
    "im = plt.imread('ljpeg/output.jpg')\n",
    "plt.imshow(im, cmap='gray', vmin=0, vmax=50)"
   ]
  },
  {
   "cell_type": "code",
   "execution_count": null,
   "metadata": {},
   "outputs": [],
   "source": []
  }
 ],
 "metadata": {
  "kernelspec": {
   "display_name": "Python 3",
   "language": "python",
   "name": "python3"
  },
  "language_info": {
   "codemirror_mode": {
    "name": "ipython",
    "version": 3
   },
   "file_extension": ".py",
   "mimetype": "text/x-python",
   "name": "python",
   "nbconvert_exporter": "python",
   "pygments_lexer": "ipython3",
   "version": "3.7.6"
  }
 },
 "nbformat": 4,
 "nbformat_minor": 4
}
